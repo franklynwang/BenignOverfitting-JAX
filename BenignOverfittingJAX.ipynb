{
  "nbformat": 4,
  "nbformat_minor": 0,
  "metadata": {
    "colab": {
      "name": "BenignOverfittingJAX",
      "provenance": [],
      "collapsed_sections": [],
      "authorship_tag": "ABX9TyMa8HJFYNeYheJ+fYHxcA97",
      "include_colab_link": true
    },
    "kernelspec": {
      "name": "python3",
      "display_name": "Python 3"
    },
    "language_info": {
      "name": "python"
    }
  },
  "cells": [
    {
      "cell_type": "markdown",
      "metadata": {
        "id": "view-in-github",
        "colab_type": "text"
      },
      "source": [
        "<a href=\"https://colab.research.google.com/github/kfoldcrossvalidator/BenignOverfitting-JAX/blob/main/BenignOverfittingJAX.ipynb\" target=\"_parent\"><img src=\"https://colab.research.google.com/assets/colab-badge.svg\" alt=\"Open In Colab\"/></a>"
      ]
    },
    {
      "cell_type": "markdown",
      "metadata": {
        "id": "UXiQygjzRKWr"
      },
      "source": [
        "This is an implementation of the paper \"Benign Overfitting in Linear Regression\" in the JAX neural network library. "
      ]
    },
    {
      "cell_type": "code",
      "metadata": {
        "id": "YNwSQysPRIzg"
      },
      "source": [
        "import jax.numpy as jnp\n",
        "import jax\n",
        "from jax import jit\n",
        "import numpy as np\n",
        "from functools import partial\n",
        "\n",
        "from scipy.stats import ortho_group\n",
        "\n",
        "@jax.partial(jit, static_argnums=[1,2])\n",
        "def get_risk(cov, d, n, theta_ast, key):\n",
        "    #note: covariance is a vector, because the covariance matrix is diagonlizable and only its spectrum matters for the purpose of our calculation.\n",
        "    subkey1, subkey2 = jax.random.split(key)\n",
        "    X = jnp.sqrt(cov) * jax.random.normal(subkey1, [n, d])\n",
        "    y_mean = X @ theta_ast\n",
        "    y = y_mean + jax.random.normal(subkey2, [n])\n",
        "    theta_hat = X.T @ jnp.linalg.inv(X @ X.T) @ y\n",
        "    test_loss = (theta_ast - theta_hat).T @ jnp.diag(cov) @ (theta_ast - theta_hat)\n",
        "    return test_loss\n"
      ],
      "execution_count": 21,
      "outputs": []
    },
    {
      "cell_type": "code",
      "metadata": {
        "colab": {
          "base_uri": "https://localhost:8080/"
        },
        "id": "0iKe-01GZwSz",
        "outputId": "65e6d639-4ea5-4147-bb62-e6d9d87a14e2"
      },
      "source": [
        "get_risk(jnp.array([1, 1, 1, 1]), 4, 2, jnp.array([1, 1, 1, 1]), jax.random.PRNGKey(10))"
      ],
      "execution_count": 23,
      "outputs": [
        {
          "output_type": "execute_result",
          "data": {
            "text/plain": [
              "DeviceArray(1.4771416, dtype=float32)"
            ]
          },
          "metadata": {
            "tags": []
          },
          "execution_count": 23
        }
      ]
    },
    {
      "cell_type": "code",
      "metadata": {
        "id": "X9NAQbzIRat4"
      },
      "source": [
        "cov1_data = []\n",
        "cov2_data = []\n",
        "cov3_data = []\n",
        "\n",
        "for l in jnp.geomspace(30, 4000, 20):\n",
        "    d = 5 * int(l)\n",
        "    key = jax.random.PRNGKey(2*d)\n",
        "    key, subkey = jax.random.split(key)\n",
        "\n",
        "    n = 6\n",
        "    theta_ast = jax.random.normal(subkey, [d]) / jnp.sqrt(d)\n",
        "    cov1 = (jnp.arange(1,d+1).astype(jnp.float32) ** -0)\n",
        "    cov2 = (jnp.arange(1,d+1).astype(jnp.float32) ** -1 * jnp.log(jnp.arange(2,d+2).astype(jnp.float32)) ** -2)\n",
        "    cov3 = (jnp.arange(1,d+1).astype(jnp.float32) ** -2)\n",
        "    \n",
        "    \n",
        "    cov1_data.append((l, get_risk(cov1, d, n, theta_ast, key)))\n",
        "    cov2_data.append((l, get_risk(cov2, d, n, theta_ast, key)))\n",
        "    cov3_data.append((l, get_risk(cov3, d, n, theta_ast, key)))"
      ],
      "execution_count": 3,
      "outputs": []
    },
    {
      "cell_type": "code",
      "metadata": {
        "colab": {
          "base_uri": "https://localhost:8080/",
          "height": 296
        },
        "id": "6Qql520rRbTB",
        "outputId": "22bf7f14-95b6-4b44-e8db-9d174326f97b"
      },
      "source": [
        "import matplotlib.pyplot as plt\n",
        "\n",
        "def plot_points(data, label):\n",
        "    x, y = zip(*data)\n",
        "    plt.plot(x, y, label=label)\n",
        "    plt.xlabel(\"dimension\")\n",
        "    plt.ylabel(\"risk\")\n",
        "    \n",
        "plot_points(cov1_data, \"alpha=0\")\n",
        "plot_points(cov2_data, \"alpha=1\")\n",
        "plot_points(cov3_data, \"alpha=2\")\n",
        "plt.legend()"
      ],
      "execution_count": 5,
      "outputs": [
        {
          "output_type": "execute_result",
          "data": {
            "text/plain": [
              "<matplotlib.legend.Legend at 0x7f228c8e0d90>"
            ]
          },
          "metadata": {
            "tags": []
          },
          "execution_count": 5
        },
        {
          "output_type": "display_data",
          "data": {
            "image/png": "[encoded data removed]",
            "text/plain": [
              "<Figure size 432x288 with 1 Axes>"
            ]
          },
          "metadata": {
            "tags": [],
            "needs_background": "light"
          }
        }
      ]
    }
  ]
}